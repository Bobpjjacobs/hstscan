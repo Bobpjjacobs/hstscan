{
 "cells": [
  {
   "cell_type": "code",
   "execution_count": null,
   "metadata": {
    "collapsed": false
   },
   "outputs": [],
   "source": [
    "%matplotlib inline\n",
    "\n",
    "import pipeline as pipe\n",
    "import data, systematics\n",
    "view = data.view_frame_image\n",
    "import reduction as r\n",
    "import dispersion as disp\n",
    "\n",
    "import matplotlib.pyplot as p\n",
    "import os\n",
    "import numpy as np\n",
    "from scipy.optimize import curve_fit, leastsq"
   ]
  },
  {
   "cell_type": "markdown",
   "metadata": {},
   "source": [
    "Start with _ima files in a folder, calibrated images"
   ]
  },
  {
   "cell_type": "markdown",
   "metadata": {},
   "source": [
    "### Generate visit lists\n",
    "These include the filters, times, and scan direction of each exposure for faster access"
   ]
  },
  {
   "cell_type": "code",
   "execution_count": null,
   "metadata": {
    "collapsed": false,
    "scrolled": true
   },
   "outputs": [],
   "source": [
    "reload(data)\n",
    "data.make_input_image_lists(None, \n",
    "        data_dir='./data/test/', prop_str='iccz')"
   ]
  },
  {
   "cell_type": "code",
   "execution_count": null,
   "metadata": {
    "collapsed": false
   },
   "outputs": [],
   "source": [
    "data.make_input_image_list('./data/test/')\n",
    "os.rename('./data/test/visit_22.lis', './data/test/eclipse.lis')"
   ]
  },
  {
   "cell_type": "markdown",
   "metadata": {},
   "source": [
    "### Create direct image catalogue"
   ]
  },
  {
   "cell_type": "code",
   "execution_count": null,
   "metadata": {
    "collapsed": false,
    "scrolled": true
   },
   "outputs": [],
   "source": [
    "pipe.create_orbit_cats_gauss(target='test', source_dir='./data/', gridsize=30, use_ima=False, nstars=1)"
   ]
  },
  {
   "cell_type": "markdown",
   "metadata": {},
   "source": [
    "### Generate exposure shifts list"
   ]
  },
  {
   "cell_type": "markdown",
   "metadata": {},
   "source": [
    "Fit direct image position for wavelength calibration, and find shifts between exposures"
   ]
  },
  {
   "cell_type": "code",
   "execution_count": null,
   "metadata": {
    "collapsed": false
   },
   "outputs": [],
   "source": [
    "# Slow don't actually run it if you have the file (exposure_shifts.lis)\n",
    "shifts = pipe.compute_exposure_shifts(['eclipse.lis'], '/home/jacob/hstscan/data/test/', \n",
    "                            save_dir='/home/jacob/hstscan/data/test/')"
   ]
  },
  {
   "cell_type": "markdown",
   "metadata": {},
   "source": [
    "### Configs"
   ]
  },
  {
   "cell_type": "markdown",
   "metadata": {},
   "source": [
    "Set up config files and log folder"
   ]
  },
  {
   "cell_type": "code",
   "execution_count": null,
   "metadata": {
    "collapsed": true
   },
   "outputs": [],
   "source": [
    "if not os.path.isdir('./data/test/logs/'): os.mkdir('./data/test/logs/')"
   ]
  },
  {
   "cell_type": "code",
   "execution_count": null,
   "metadata": {
    "collapsed": false,
    "scrolled": true
   },
   "outputs": [],
   "source": [
    "with open('./data/test/red.conf') as g: print(g.read())"
   ]
  },
  {
   "cell_type": "code",
   "execution_count": null,
   "metadata": {
    "collapsed": false,
    "scrolled": true
   },
   "outputs": [],
   "source": [
    "with open('./data/test/ext.conf') as g: print(g.read())"
   ]
  },
  {
   "cell_type": "markdown",
   "metadata": {
    "collapsed": true
   },
   "source": [
    "# Data reduction example"
   ]
  },
  {
   "cell_type": "code",
   "execution_count": null,
   "metadata": {
    "collapsed": false
   },
   "outputs": [],
   "source": [
    "exp = pipe.reduce_exposure( 'iccz22ckq_ima.fits', pdf=False, logger=False,\n",
    "                              conf_file = './data/test/red.conf')"
   ]
  },
  {
   "cell_type": "code",
   "execution_count": null,
   "metadata": {
    "collapsed": false
   },
   "outputs": [],
   "source": [
    "exp_spectrum, variance, interp_spectra, variances = \\\n",
    "                    pipe.extract_spectra(exp, conf_file='./data/test/ext.conf',\n",
    "                                        pdf=False, logger=False)"
   ]
  },
  {
   "cell_type": "markdown",
   "metadata": {},
   "source": [
    "# Run for all exposures\n",
    "From the terminal run: \"python run_pipeline.py\", and it should reduce every exposure in \"exposure.lis\"\n",
    "\n",
    "Should take about 15 minutes on 2 cores\n",
    "\n",
    "This will generate partial exposure_red.fits files and exposure_spec.txt spectra for each exposure"
   ]
  },
  {
   "cell_type": "markdown",
   "metadata": {},
   "source": [
    "# Look at outputs"
   ]
  },
  {
   "cell_type": "code",
   "execution_count": null,
   "metadata": {
    "collapsed": false
   },
   "outputs": [],
   "source": [
    "reload(data)\n",
    "times, fluxes, errs, directions = data.broadband_fluxes(\n",
    "        files='eclipse.lis', source_dir='./data/test/',\n",
    "        wmin=1.14,wmax=1.6,\n",
    "        direction='a', plot=True)\n",
    "p.xlabel('Time (days)')\n",
    "p.ylabel('Photoelectrons')\n",
    "p.title('Eclipse of WASP-18b with HST')\n",
    "p.show()"
   ]
  },
  {
   "cell_type": "markdown",
   "metadata": {},
   "source": [
    "# Profile of the pipeline"
   ]
  },
  {
   "cell_type": "code",
   "execution_count": null,
   "metadata": {
    "collapsed": false,
    "scrolled": true
   },
   "outputs": [],
   "source": [
    "%load_ext snakeviz"
   ]
  },
  {
   "cell_type": "code",
   "execution_count": null,
   "metadata": {
    "collapsed": false
   },
   "outputs": [],
   "source": [
    "%%snakeviz\n",
    "exp = pipe.reduce_exposure( 'iccz22ckq_ima.fits', conf_file = './data/test/red.conf')\n",
    "exp_spectrum, variance, interp_spectra, variances = \\\n",
    "                    pipe.extract_spectra(exp, conf_file='./data/test/ext.conf')"
   ]
  },
  {
   "cell_type": "markdown",
   "metadata": {},
   "source": [
    "Half of the time is spent doing the wavelength calibration. Just changed this so likely can be optimized later."
   ]
  },
  {
   "cell_type": "markdown",
   "metadata": {},
   "source": [
    "# To do list\n",
    "- Error handling\n",
    "- Neater extraction algorithm\n",
    "- There may be a bug in create_orbit_cats_gauss"
   ]
  }
 ],
 "metadata": {
  "kernelspec": {
   "display_name": "Python 2",
   "language": "python",
   "name": "python2"
  },
  "language_info": {
   "codemirror_mode": {
    "name": "ipython",
    "version": 2
   },
   "file_extension": ".py",
   "mimetype": "text/x-python",
   "name": "python",
   "nbconvert_exporter": "python",
   "pygments_lexer": "ipython2",
   "version": "2.7.14"
  }
 },
 "nbformat": 4,
 "nbformat_minor": 0
}
